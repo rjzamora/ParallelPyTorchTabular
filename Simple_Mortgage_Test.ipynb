{
 "cells": [
  {
   "cell_type": "markdown",
   "metadata": {},
   "source": [
    "# Mortgage Workflow with Deep Learning - Basic (No Ignite)\n",
    "\n",
    "Original workflow by Even Oldridge - Modified by Rick Zamora"
   ]
  },
  {
   "cell_type": "markdown",
   "metadata": {},
   "source": [
    "## Dataset\n",
    "\n",
    "The dataset used with this workflow is derived from [Fannie Mae’s Single-Family Loan Performance Data](http://www.fanniemae.com/portal/funding-the-market/data/loan-performance-data.html) with all rights reserved by Fannie Mae. This processed dataset is redistributed with permission and consent from Fannie Mae.\n",
    "\n",
    "Preprocessing ETL has already been precalculated and is located at `/datasets/mortgage/post_etl/dnn/`"
   ]
  },
  {
   "cell_type": "markdown",
   "metadata": {},
   "source": [
    "## PyTorch Deep Neural Network\n",
    "\n",
    "### Model\n",
    "The model constructed below starts with an initial embedding layer ([`torch.nn.EmbeddingBag`](https://pytorch.org/docs/stable/nn.html#embeddingbag)) that takes the indices from the ETL pipeline, looks up the embeddings in the hash table and takes their mean. This vector then passes to a [multilayer perceptron](https://en.wikipedia.org/wiki/Multilayer_perceptron) which finally outputs a single score.\n",
    "\n",
    "Many of the model architecture parameters can be configured by the user such as embedding dimension, number and size of hidden layers, and activation functions."
   ]
  },
  {
   "cell_type": "markdown",
   "metadata": {},
   "source": [
    "## CODE\n",
    "Most of the details are buried/organized within the .py files."
   ]
  },
  {
   "cell_type": "markdown",
   "metadata": {},
   "source": [
    "### Imports"
   ]
  },
  {
   "cell_type": "code",
   "execution_count": 1,
   "metadata": {},
   "outputs": [
    {
     "data": {
      "text/plain": [
       "'0.8.0a1+388.gbaff98a'"
      ]
     },
     "execution_count": 1,
     "metadata": {},
     "output_type": "execute_result"
    }
   ],
   "source": [
    "from collections import defaultdict, OrderedDict\n",
    "import torch\n",
    "from torch import nn\n",
    "import torch.nn.functional as F\n",
    "import numpy as np\n",
    "import pyarrow.parquet as pq\n",
    "import cudf\n",
    "cudf.__version__"
   ]
  },
  {
   "cell_type": "code",
   "execution_count": 2,
   "metadata": {},
   "outputs": [],
   "source": [
    "%load_ext autoreload\n",
    "%autoreload 2"
   ]
  },
  {
   "cell_type": "markdown",
   "metadata": {},
   "source": [
    "## Configuration"
   ]
  },
  {
   "cell_type": "markdown",
   "metadata": {},
   "source": [
    "#### ETL - Discretization"
   ]
  },
  {
   "cell_type": "code",
   "execution_count": 3,
   "metadata": {},
   "outputs": [],
   "source": [
    "num_features = 2 ** 22  # When hashing features range will be [0, num_features)"
   ]
  },
  {
   "cell_type": "markdown",
   "metadata": {},
   "source": [
    "#### Training - Model Details"
   ]
  },
  {
   "cell_type": "code",
   "execution_count": 4,
   "metadata": {},
   "outputs": [],
   "source": [
    "embedding_size = 64\n",
    "hidden_dims = [600,600,600,600]\n",
    "device = 'cuda'\n",
    "activation = nn.ReLU()\n",
    "batch_size = 80960\n",
    "using_docker = False"
   ]
  },
  {
   "cell_type": "markdown",
   "metadata": {},
   "source": [
    "## Torch Dataset from Parquet\n",
    "The preprocessing ETL has already been precalculated and is stored at: /tmp/eoldridge/fnma_full_data_proc_out4/dnn/"
   ]
  },
  {
   "cell_type": "code",
   "execution_count": 5,
   "metadata": {},
   "outputs": [
    {
     "name": "stdout",
     "output_type": "stream",
     "text": [
      "total 0M\n",
      "drwxr-xr-x 1 eoldridge nvidia 0M May 29 11:38 .\n",
      "drwxr-xr-x 1 eoldridge nvidia 0M May 29 11:38 ..\n",
      "drwxr-xr-x 1 eoldridge nvidia 0M May 29 11:38 test\n",
      "drwxr-xr-x 1 eoldridge nvidia 0M May 29 11:38 train\n",
      "drwxr-xr-x 1 eoldridge nvidia 0M May 29 11:38 validation\n"
     ]
    }
   ],
   "source": [
    "if using_docker:\n",
    "    data_dir = '/data/mortgage/'\n",
    "    !ls -al --block-size=M /data/mortgage/\n",
    "else:\n",
    "    data_dir = '/datasets/mortgage/post_etl/dnn/'\n",
    "    !ls -al --block-size=M /datasets/mortgage/post_etl/dnn/"
   ]
  },
  {
   "cell_type": "markdown",
   "metadata": {},
   "source": [
    "### Training starts here"
   ]
  },
  {
   "cell_type": "code",
   "execution_count": 6,
   "metadata": {},
   "outputs": [],
   "source": [
    "from training import run_training\n",
    "from model import MortgageNetwork"
   ]
  },
  {
   "cell_type": "code",
   "execution_count": 8,
   "metadata": {},
   "outputs": [
    {
     "data": {
      "text/plain": [
       "device(type='cuda')"
      ]
     },
     "execution_count": 8,
     "metadata": {},
     "output_type": "execute_result"
    }
   ],
   "source": [
    "model = MortgageNetwork(\n",
    "    num_features,\n",
    "    embedding_size,\n",
    "    hidden_dims,\n",
    "    activation=activation,\n",
    "    use_cuda=True\n",
    ")\n",
    "model.device"
   ]
  },
  {
   "cell_type": "code",
   "execution_count": 9,
   "metadata": {},
   "outputs": [
    {
     "name": "stdout",
     "output_type": "stream",
     "text": [
      "Epoch [1/3], Step [100/107] Loss: 0.0458\n",
      "Epoch [2/3], Step [100/107] Loss: 0.0442\n",
      "Epoch [3/3], Step [100/107] Loss: 0.0395\n",
      "CPU times: user 2min 29s, sys: 1min 13s, total: 3min 42s\n",
      "Wall time: 2min 49s\n"
     ]
    }
   ],
   "source": [
    "%%time\n",
    "run_training(\n",
    "    model,\n",
    "    data_dir,\n",
    "    batch_size=batch_size,\n",
    "    batch_dataload=True,\n",
    "    num_workers=8\n",
    ")"
   ]
  },
  {
   "cell_type": "code",
   "execution_count": null,
   "metadata": {},
   "outputs": [],
   "source": []
  }
 ],
 "metadata": {
  "kernelspec": {
   "display_name": "Python 3",
   "language": "python",
   "name": "python3"
  },
  "language_info": {
   "codemirror_mode": {
    "name": "ipython",
    "version": 3
   },
   "file_extension": ".py",
   "mimetype": "text/x-python",
   "name": "python",
   "nbconvert_exporter": "python",
   "pygments_lexer": "ipython3",
   "version": "3.7.3"
  }
 },
 "nbformat": 4,
 "nbformat_minor": 2
}
