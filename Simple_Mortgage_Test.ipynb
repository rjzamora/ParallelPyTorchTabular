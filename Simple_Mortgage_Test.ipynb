{
 "cells": [
  {
   "cell_type": "markdown",
   "metadata": {},
   "source": [
    "# Mortgage Workflow with Deep Learning - Basic (No Ignite)\n",
    "\n",
    "Original workflow by Even Oldridge - Modified by Rick Zamora"
   ]
  },
  {
   "cell_type": "markdown",
   "metadata": {},
   "source": [
    "### Dataset\n",
    "\n",
    "The dataset used with this workflow is derived from [Fannie Mae’s Single-Family Loan Performance Data](http://www.fanniemae.com/portal/funding-the-market/data/loan-performance-data.html) with all rights reserved by Fannie Mae. This processed dataset is redistributed with permission and consent from Fannie Mae."
   ]
  },
  {
   "cell_type": "code",
   "execution_count": 2,
   "metadata": {},
   "outputs": [
    {
     "name": "stdout",
     "output_type": "stream",
     "text": [
      "total 0M\n",
      "drwxr-xr-x 1 eoldridge nvidia 0M May 29 11:38 .\n",
      "drwxr-xr-x 1 eoldridge nvidia 0M May 29 11:38 ..\n",
      "drwxr-xr-x 1 eoldridge nvidia 0M May 29 11:38 test\n",
      "drwxr-xr-x 1 eoldridge nvidia 0M May 29 11:38 train\n",
      "drwxr-xr-x 1 eoldridge nvidia 0M May 29 11:38 validation\n"
     ]
    }
   ],
   "source": [
    "using_docker = False\n",
    "if using_docker:\n",
    "    data_dir = '/data/mortgage/'\n",
    "    !ls -al --block-size=M /data/mortgage/\n",
    "else:\n",
    "    data_dir = '/datasets/mortgage/post_etl/dnn/'\n",
    "    !ls -al --block-size=M /datasets/mortgage/post_etl/dnn/"
   ]
  },
  {
   "cell_type": "markdown",
   "metadata": {},
   "source": [
    "### Run parallel training script and collect profile"
   ]
  },
  {
   "cell_type": "code",
   "execution_count": 4,
   "metadata": {},
   "outputs": [
    {
     "data": {
      "text/plain": [
       "0"
      ]
     },
     "execution_count": 4,
     "metadata": {},
     "output_type": "execute_result"
    }
   ],
   "source": [
    "import os\n",
    "\n",
    "nranks = 4\n",
    "os.system('mpirun -n '+str(nranks)+' python -m cProfile -o program.prof parallel_training.py --batched --adam --epochs 3 --hvd --fp16-allreduce')"
   ]
  }
 ],
 "metadata": {
  "kernelspec": {
   "display_name": "Python 3",
   "language": "python",
   "name": "python3"
  },
  "language_info": {
   "codemirror_mode": {
    "name": "ipython",
    "version": 3
   },
   "file_extension": ".py",
   "mimetype": "text/x-python",
   "name": "python",
   "nbconvert_exporter": "python",
   "pygments_lexer": "ipython3",
   "version": "3.7.3"
  }
 },
 "nbformat": 4,
 "nbformat_minor": 2
}
